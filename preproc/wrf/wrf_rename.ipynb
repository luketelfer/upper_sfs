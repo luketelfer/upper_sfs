{
 "cells": [
  {
   "cell_type": "code",
   "execution_count": 1,
   "metadata": {},
   "outputs": [],
   "source": [
    "import os\n",
    "\n",
    "wrfdir = 'wrf_forcings_renamed/'\n",
    "\n",
    "for count, filename in enumerate(os.listdir(wrfdir)):\n",
    "        \n",
    "        if len(filename) == 29:\n",
    "            dst = wrfdir + filename[:14] + str(int(filename[14])+1) + filename[15:]\n",
    "            src = wrfdir + filename\n",
    "        \n",
    "        elif len(filename) == 30:\n",
    "            dst = wrfdir + filename[:15] + str(int(filename[15])+1) + filename[16:]\n",
    "            src = wrfdir + filename\n",
    "        \n",
    "        os.rename(src,dst)"
   ]
  },
  {
   "cell_type": "code",
   "execution_count": 1,
   "metadata": {},
   "outputs": [],
   "source": [
    "import os"
   ]
  },
  {
   "cell_type": "code",
   "execution_count": null,
   "metadata": {},
   "outputs": [],
   "source": []
  }
 ],
 "metadata": {
  "kernelspec": {
   "display_name": "Python 3",
   "language": "python",
   "name": "python3"
  },
  "language_info": {
   "codemirror_mode": {
    "name": "ipython",
    "version": 3
   },
   "file_extension": ".py",
   "mimetype": "text/x-python",
   "name": "python",
   "nbconvert_exporter": "python",
   "pygments_lexer": "ipython3",
   "version": "3.7.6"
  }
 },
 "nbformat": 4,
 "nbformat_minor": 4
}
