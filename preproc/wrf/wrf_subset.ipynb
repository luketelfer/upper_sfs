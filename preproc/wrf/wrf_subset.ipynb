{
 "cells": [
  {
   "cell_type": "code",
   "execution_count": 1,
   "metadata": {},
   "outputs": [],
   "source": [
    "from parflowio.pyParflowio import PFData\n",
    "import numpy as np\n",
    "import xarray as xr\n",
    "import matplotlib.pyplot as plt\n",
    "from datetime import datetime, timedelta\n",
    "import os, glob, sys"
   ]
  },
  {
   "cell_type": "code",
   "execution_count": 16,
   "metadata": {},
   "outputs": [],
   "source": [
    "def get_mask():\n",
    "    usfs_pfb = PFData('Domain_Blank_Mask_clip.pfb')\n",
    "    usfs_pfb.loadHeader();\n",
    "    usfs_pfb.loadData();\n",
    "    usfs_arr = usfs_pfb.copyDataArray().squeeze()\n",
    "    usfs = xr.DataArray(usfs_arr,dims=['y','x'])\n",
    "    usfs = usfs.where(usfs==1,0).where(usfs<0,1)\n",
    "    usfs['x'] = np.arange(24) + 4\n",
    "    usfs['y'] = np.arange(64) + 12\n",
    "    mask = usfs.where(usfs==1,1)\n",
    "    usfs.close();\n",
    "    return usfs"
   ]
  },
  {
   "cell_type": "code",
   "execution_count": 3,
   "metadata": {},
   "outputs": [],
   "source": [
    "def get_wrf(wrf_file):\n",
    "    wrf_pfb = PFData(wrf_file)\n",
    "    wrf_pfb.loadHeader();\n",
    "    wrf_pfb.loadData();\n",
    "    wrf_pfb.close();\n",
    "    return wrf_pfb"
   ]
  },
  {
   "cell_type": "code",
   "execution_count": 4,
   "metadata": {},
   "outputs": [],
   "source": [
    "def clip_wrf(wrf,mask):\n",
    "    wrf_arr = wrf.copyDataArray().squeeze()\n",
    "    wrf = xr.DataArray(wrf_arr,dims=['t','y','x'])\n",
    "    wrf['x'] = np.arange(64)\n",
    "    wrf['y'] = np.arange(128)\n",
    "    wrf_clip = wrf.where(mask==1,drop=True).values\n",
    "    return wrf_clip"
   ]
  },
  {
   "cell_type": "code",
   "execution_count": 5,
   "metadata": {},
   "outputs": [],
   "source": [
    "def subset_wrf(wrf_file,outdir='usfs_wrf/'):\n",
    "    mask = get_mask()\n",
    "    wrf = get_wrf(wrf_file)\n",
    "    clip = clip_wrf(wrf,mask)\n",
    "    wrf.setDataArray(clip)\n",
    "    wrf.writeFile(outdir + os.path.basename(wrf_file));\n",
    "    wrf.close();\n",
    "    print(os.path.basename(wrf_file))"
   ]
  },
  {
   "cell_type": "code",
   "execution_count": 6,
   "metadata": {},
   "outputs": [],
   "source": [
    "#wrf_source = 'wrf_forcings_renamed/'\n",
    "#wrf_files = sorted(glob.glob(wrf_source + '*'))\n",
    "#[subset_wrf(f) for f in wrf_files]"
   ]
  },
  {
   "cell_type": "code",
   "execution_count": 7,
   "metadata": {},
   "outputs": [],
   "source": [
    "wrf_source = 'usfs_wrf/'\n",
    "wrf_files = sorted(glob.glob(wrf_source + '*'))"
   ]
  },
  {
   "cell_type": "code",
   "execution_count": 13,
   "metadata": {},
   "outputs": [
    {
     "data": {
      "image/png": "[encoded data removed]",
      "text/plain": [
       "<Figure size 432x288 with 2 Axes>"
      ]
     },
     "metadata": {
      "needs_background": "light"
     },
     "output_type": "display_data"
    }
   ],
   "source": [
    "wrf_arr = get_wrf(wrf_files[100]).copyDataArray().squeeze()\n",
    "plt.imshow(wrf_arr[0])\n",
    "plt.colorbar();"
   ]
  },
  {
   "cell_type": "code",
   "execution_count": 17,
   "metadata": {},
   "outputs": [],
   "source": [
    "mask = get_mask()"
   ]
  },
  {
   "cell_type": "code",
   "execution_count": 19,
   "metadata": {},
   "outputs": [
    {
     "data": {
      "text/plain": [
       "<matplotlib.collections.QuadMesh at 0x7ff814f66490>"
      ]
     },
     "execution_count": 19,
     "metadata": {},
     "output_type": "execute_result"
    },
    {
     "data": {
      "image/png": "[encoded data removed]",
      "text/plain": [
       "<Figure size 432x288 with 2 Axes>"
      ]
     },
     "metadata": {
      "needs_background": "light"
     },
     "output_type": "display_data"
    }
   ],
   "source": [
    "mask.plot()"
   ]
  },
  {
   "cell_type": "code",
   "execution_count": null,
   "metadata": {},
   "outputs": [],
   "source": []
  }
 ],
 "metadata": {
  "kernelspec": {
   "display_name": "Python 3",
   "language": "python",
   "name": "python3"
  },
  "language_info": {
   "codemirror_mode": {
    "name": "ipython",
    "version": 3
   },
   "file_extension": ".py",
   "mimetype": "text/x-python",
   "name": "python",
   "nbconvert_exporter": "python",
   "pygments_lexer": "ipython3",
   "version": "3.7.6"
  }
 },
 "nbformat": 4,
 "nbformat_minor": 4
}
