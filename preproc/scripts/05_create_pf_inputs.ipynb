{
 "cells": [
  {
   "cell_type": "code",
   "execution_count": 1,
   "id": "d0f5cbde-3afb-46e1-b31c-5b491d480852",
   "metadata": {},
   "outputs": [],
   "source": [
    "import xarray as xr\n",
    "from generate_inputs import *"
   ]
  },
  {
   "cell_type": "code",
   "execution_count": 3,
   "id": "e43f9305-45b0-43c0-9bf4-1d5fb3f18b93",
   "metadata": {},
   "outputs": [],
   "source": [
    "mosaics = xr.open_dataset('mosaics.nc')\n",
    "[gen_indicator(group=i,sample_number=j) for i in mosaics.b.values for j in mosaics.m.values];\n",
    "[gen_vegm(group=i,sample_number=j) for i in mosaics.b.values for j in mosaics.m.values];"
   ]
  }
 ],
 "metadata": {
  "kernelspec": {
   "display_name": "Python 3",
   "language": "python",
   "name": "python3"
  },
  "language_info": {
   "codemirror_mode": {
    "name": "ipython",
    "version": 3
   },
   "file_extension": ".py",
   "mimetype": "text/x-python",
   "name": "python",
   "nbconvert_exporter": "python",
   "pygments_lexer": "ipython3",
   "version": "3.8.8"
  }
 },
 "nbformat": 4,
 "nbformat_minor": 5
}
