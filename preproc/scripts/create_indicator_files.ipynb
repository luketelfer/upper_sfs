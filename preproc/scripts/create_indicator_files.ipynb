{
 "cells": [
  {
   "cell_type": "code",
   "execution_count": 1,
   "metadata": {},
   "outputs": [],
   "source": [
    "from parflowio.pyParflowio import PFData\n",
    "import numpy as np\n",
    "import xarray as xr\n",
    "import matplotlib.pyplot as plt\n",
    "import matplotlib"
   ]
  },
  {
   "cell_type": "code",
   "execution_count": 17,
   "metadata": {},
   "outputs": [],
   "source": [
    "mosaics = xr.open_dataset('mosaics.nc')"
   ]
  },
  {
   "cell_type": "code",
   "execution_count": 66,
   "metadata": {},
   "outputs": [],
   "source": [
    "def generate_indicator_pfb(mosaics,variable,n):\n",
    "    \n",
    "    # import packages\n",
    "    from parflowio.pyParflowio import PFData\n",
    "    import numpy as np\n",
    "    \n",
    "    # load indicator pfb template\n",
    "    indicator = PFData('usfs_template_indicator.pfb')\n",
    "    indicator.loadHeader();\n",
    "    indicator.loadData();\n",
    "    imask = indicator.copyDataArray()[0]\n",
    "    imask[imask > 0] = 1\n",
    "    \n",
    "    # create new indicator array\n",
    "    iarr = np.expand_dims(imask,axis=0)\n",
    "    iarr = np.tile(iarr,(25,1,1))\n",
    "    \n",
    "    # update values\n",
    "    iarr[0:5][iarr[0:5]==1] = 6\n",
    "    iarr[5:15][iarr[5:15]==1] = 5\n",
    "    iarr[-1][iarr[-1]==1] = 0\n",
    "    \n",
    "    # get mosaic array\n",
    "    m = mosaics[variable].sel(n=n)\n",
    "    m = m.where(m>0,0).values\n",
    "    \n",
    "    # add mosaic values to surface layer\n",
    "    iarr[-1] = iarr[-1] + m\n",
    "    \n",
    "    # create path for output\n",
    "    outpath = f'mosaics/{variable}/{variable}.{n}.indicator.pfb'\n",
    "    \n",
    "    # write to pfb file\n",
    "    indicator.setDataArray(iarr)\n",
    "    indicator.writeFile(outpath)\n",
    "    indicator.close()\n",
    "    \n",
    "    return outpath"
   ]
  },
  {
   "cell_type": "code",
   "execution_count": 67,
   "metadata": {},
   "outputs": [
    {
     "data": {
      "text/plain": [
       "['mosaics/aspect/aspect.1.indicator.pfb',\n",
       " 'mosaics/aspect/aspect.2.indicator.pfb',\n",
       " 'mosaics/aspect/aspect.3.indicator.pfb',\n",
       " 'mosaics/aspect/aspect.4.indicator.pfb',\n",
       " 'mosaics/aspect/aspect.5.indicator.pfb',\n",
       " 'mosaics/atmpress/atmpress.1.indicator.pfb',\n",
       " 'mosaics/atmpress/atmpress.2.indicator.pfb',\n",
       " 'mosaics/atmpress/atmpress.3.indicator.pfb',\n",
       " 'mosaics/atmpress/atmpress.4.indicator.pfb',\n",
       " 'mosaics/atmpress/atmpress.5.indicator.pfb',\n",
       " 'mosaics/elev/elev.1.indicator.pfb',\n",
       " 'mosaics/elev/elev.2.indicator.pfb',\n",
       " 'mosaics/elev/elev.3.indicator.pfb',\n",
       " 'mosaics/elev/elev.4.indicator.pfb',\n",
       " 'mosaics/elev/elev.5.indicator.pfb',\n",
       " 'mosaics/longwave/longwave.1.indicator.pfb',\n",
       " 'mosaics/longwave/longwave.2.indicator.pfb',\n",
       " 'mosaics/longwave/longwave.3.indicator.pfb',\n",
       " 'mosaics/longwave/longwave.4.indicator.pfb',\n",
       " 'mosaics/longwave/longwave.5.indicator.pfb',\n",
       " 'mosaics/precip/precip.1.indicator.pfb',\n",
       " 'mosaics/precip/precip.2.indicator.pfb',\n",
       " 'mosaics/precip/precip.3.indicator.pfb',\n",
       " 'mosaics/precip/precip.4.indicator.pfb',\n",
       " 'mosaics/precip/precip.5.indicator.pfb',\n",
       " 'mosaics/random1/random1.1.indicator.pfb',\n",
       " 'mosaics/random1/random1.2.indicator.pfb',\n",
       " 'mosaics/random1/random1.3.indicator.pfb',\n",
       " 'mosaics/random1/random1.4.indicator.pfb',\n",
       " 'mosaics/random1/random1.5.indicator.pfb',\n",
       " 'mosaics/random2/random2.1.indicator.pfb',\n",
       " 'mosaics/random2/random2.2.indicator.pfb',\n",
       " 'mosaics/random2/random2.3.indicator.pfb',\n",
       " 'mosaics/random2/random2.4.indicator.pfb',\n",
       " 'mosaics/random2/random2.5.indicator.pfb',\n",
       " 'mosaics/shortwave/shortwave.1.indicator.pfb',\n",
       " 'mosaics/shortwave/shortwave.2.indicator.pfb',\n",
       " 'mosaics/shortwave/shortwave.3.indicator.pfb',\n",
       " 'mosaics/shortwave/shortwave.4.indicator.pfb',\n",
       " 'mosaics/shortwave/shortwave.5.indicator.pfb',\n",
       " 'mosaics/slope/slope.1.indicator.pfb',\n",
       " 'mosaics/slope/slope.2.indicator.pfb',\n",
       " 'mosaics/slope/slope.3.indicator.pfb',\n",
       " 'mosaics/slope/slope.4.indicator.pfb',\n",
       " 'mosaics/slope/slope.5.indicator.pfb',\n",
       " 'mosaics/sphumid/sphumid.1.indicator.pfb',\n",
       " 'mosaics/sphumid/sphumid.2.indicator.pfb',\n",
       " 'mosaics/sphumid/sphumid.3.indicator.pfb',\n",
       " 'mosaics/sphumid/sphumid.4.indicator.pfb',\n",
       " 'mosaics/sphumid/sphumid.5.indicator.pfb',\n",
       " 'mosaics/streamdist/streamdist.1.indicator.pfb',\n",
       " 'mosaics/streamdist/streamdist.2.indicator.pfb',\n",
       " 'mosaics/streamdist/streamdist.3.indicator.pfb',\n",
       " 'mosaics/streamdist/streamdist.4.indicator.pfb',\n",
       " 'mosaics/streamdist/streamdist.5.indicator.pfb',\n",
       " 'mosaics/temp/temp.1.indicator.pfb',\n",
       " 'mosaics/temp/temp.2.indicator.pfb',\n",
       " 'mosaics/temp/temp.3.indicator.pfb',\n",
       " 'mosaics/temp/temp.4.indicator.pfb',\n",
       " 'mosaics/temp/temp.5.indicator.pfb',\n",
       " 'mosaics/wind/wind.1.indicator.pfb',\n",
       " 'mosaics/wind/wind.2.indicator.pfb',\n",
       " 'mosaics/wind/wind.3.indicator.pfb',\n",
       " 'mosaics/wind/wind.4.indicator.pfb',\n",
       " 'mosaics/wind/wind.5.indicator.pfb']"
      ]
     },
     "execution_count": 67,
     "metadata": {},
     "output_type": "execute_result"
    }
   ],
   "source": [
    "[generate_indicator_pfb(mosaics,v,n) for v in sorted(mosaics.data_vars) for n in mosaics.n.values.astype(int)]"
   ]
  },
  {
   "cell_type": "code",
   "execution_count": null,
   "metadata": {},
   "outputs": [],
   "source": []
  }
 ],
 "metadata": {
  "kernelspec": {
   "display_name": "Python 3",
   "language": "python",
   "name": "python3"
  },
  "language_info": {
   "codemirror_mode": {
    "name": "ipython",
    "version": 3
   },
   "file_extension": ".py",
   "mimetype": "text/x-python",
   "name": "python",
   "nbconvert_exporter": "python",
   "pygments_lexer": "ipython3",
   "version": "3.7.6"
  }
 },
 "nbformat": 4,
 "nbformat_minor": 4
}
