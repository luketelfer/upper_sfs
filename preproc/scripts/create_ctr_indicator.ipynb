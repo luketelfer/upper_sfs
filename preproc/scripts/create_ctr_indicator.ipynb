{
 "cells": [
  {
   "cell_type": "code",
   "execution_count": 2,
   "metadata": {},
   "outputs": [],
   "source": [
    "from parflowio.pyParflowio import PFData\n",
    "import numpy as np\n",
    "import xarray as xr\n",
    "import matplotlib.pyplot as plt\n",
    "import matplotlib"
   ]
  },
  {
   "cell_type": "markdown",
   "metadata": {},
   "source": [
    "# load indicator template"
   ]
  },
  {
   "cell_type": "code",
   "execution_count": 3,
   "metadata": {},
   "outputs": [],
   "source": [
    "indi_pfb = PFData('../data/mosaic_files/usfs_template_indicator.pfb')\n",
    "indi_pfb.loadHeader();\n",
    "indi_pfb.loadData();\n",
    "indi_mask = indi_pfb.copyDataArray()[0]\n",
    "indi_mask[indi_mask > 0] = 1"
   ]
  },
  {
   "cell_type": "markdown",
   "metadata": {},
   "source": [
    "# create new indicator array"
   ]
  },
  {
   "cell_type": "code",
   "execution_count": 8,
   "metadata": {},
   "outputs": [],
   "source": [
    "indi_arr = np.expand_dims(indi_mask,axis=0)\n",
    "indi_arr = np.tile(indi_arr,(25,1,1))"
   ]
  },
  {
   "cell_type": "markdown",
   "metadata": {},
   "source": [
    "# update values"
   ]
  },
  {
   "cell_type": "code",
   "execution_count": 9,
   "metadata": {},
   "outputs": [],
   "source": [
    "indi_arr[0:5][indi_arr[0:5]==1] = 6\n",
    "indi_arr[5:15][indi_arr[5:15]==1] = 5\n",
    "indi_arr[-1][indi_arr[-1]==1] = 1"
   ]
  },
  {
   "cell_type": "markdown",
   "metadata": {},
   "source": [
    "# write pfb"
   ]
  },
  {
   "cell_type": "code",
   "execution_count": 16,
   "metadata": {},
   "outputs": [],
   "source": [
    "indi_pfb.setDataArray(indi_arr)\n",
    "indi_pfb.writeFile('ctr_indicator.pfb');"
   ]
  },
  {
   "cell_type": "markdown",
   "metadata": {},
   "source": [
    "# test"
   ]
  },
  {
   "cell_type": "code",
   "execution_count": 17,
   "metadata": {},
   "outputs": [],
   "source": [
    "pfb = PFData('ctr_indicator.pfb')\n",
    "pfb.loadHeader();\n",
    "pfb.loadData();\n",
    "arr = pfb.copyDataArray()"
   ]
  },
  {
   "cell_type": "code",
   "execution_count": 18,
   "metadata": {},
   "outputs": [
    {
     "data": {
      "text/plain": [
       "(25, 64, 24)"
      ]
     },
     "execution_count": 18,
     "metadata": {},
     "output_type": "execute_result"
    }
   ],
   "source": [
    "np.shape(arr)"
   ]
  },
  {
   "cell_type": "code",
   "execution_count": 19,
   "metadata": {},
   "outputs": [
    {
     "name": "stdout",
     "output_type": "stream",
     "text": [
      "[-999.    6.]\n",
      "[-999.    6.]\n",
      "[-999.    6.]\n",
      "[-999.    6.]\n",
      "[-999.    6.]\n",
      "[-999.    5.]\n",
      "[-999.    5.]\n",
      "[-999.    5.]\n",
      "[-999.    5.]\n",
      "[-999.    5.]\n",
      "[-999.    5.]\n",
      "[-999.    5.]\n",
      "[-999.    5.]\n",
      "[-999.    5.]\n",
      "[-999.    5.]\n",
      "[-999.    1.]\n",
      "[-999.    1.]\n",
      "[-999.    1.]\n",
      "[-999.    1.]\n",
      "[-999.    1.]\n",
      "[-999.    1.]\n",
      "[-999.    1.]\n",
      "[-999.    1.]\n",
      "[-999.    1.]\n",
      "[-999.    1.]\n"
     ]
    }
   ],
   "source": [
    "for i in np.arange(25):\n",
    "    print(np.unique(arr[i]))"
   ]
  },
  {
   "cell_type": "code",
   "execution_count": 20,
   "metadata": {},
   "outputs": [
    {
     "data": {
      "image/png": "[encoded data removed]",
      "text/plain": [
       "<Figure size 432x288 with 2 Axes>"
      ]
     },
     "metadata": {
      "needs_background": "light"
     },
     "output_type": "display_data"
    }
   ],
   "source": [
    "arr[arr==-999] = np.nan\n",
    "plt.imshow(arr[15]);\n",
    "plt.colorbar();"
   ]
  },
  {
   "cell_type": "code",
   "execution_count": null,
   "metadata": {},
   "outputs": [],
   "source": []
  }
 ],
 "metadata": {
  "kernelspec": {
   "display_name": "Python 3",
   "language": "python",
   "name": "python3"
  },
  "language_info": {
   "codemirror_mode": {
    "name": "ipython",
    "version": 3
   },
   "file_extension": ".py",
   "mimetype": "text/x-python",
   "name": "python",
   "nbconvert_exporter": "python",
   "pygments_lexer": "ipython3",
   "version": "3.7.6"
  }
 },
 "nbformat": 4,
 "nbformat_minor": 4
}
