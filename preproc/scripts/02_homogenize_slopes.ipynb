{
 "cells": [
  {
   "cell_type": "code",
   "execution_count": 1,
   "id": "rotary-offset",
   "metadata": {},
   "outputs": [],
   "source": [
    "from parflowio.pyParflowio import PFData\n",
    "import xarray as xr\n",
    "import numpy as np\n",
    "import pandas as pd\n",
    "import matplotlib.pyplot as plt"
   ]
  },
  {
   "cell_type": "code",
   "execution_count": 2,
   "id": "funny-marshall",
   "metadata": {},
   "outputs": [],
   "source": [
    "sx_pfb = PFData('/home/ltelfer/scratch/upper_sfs/input_files/domain_inputs/usfs_slopex.pfb')\n",
    "sx_pfb.loadHeader();\n",
    "sx_pfb.loadData();\n",
    "sx_arr = sx_pfb.copyDataArray().squeeze()\n",
    "sx = xr.DataArray(sx_arr,dims=['y','x'],name='slopex')\n",
    "\n",
    "sy_pfb = PFData('/home/ltelfer/scratch/upper_sfs/input_files/domain_inputs/usfs_slopey.pfb')\n",
    "sy_pfb.loadHeader();\n",
    "sy_pfb.loadData();\n",
    "sy_arr = sy_pfb.copyDataArray().squeeze()\n",
    "sy = xr.DataArray(sy_arr,dims=['y','x'],name='slopex')\n",
    "\n",
    "ctr = xr.open_mfdataset('/home/ltelfer/scratch/upper_sfs/pfout.zarr/ctr/ctr',engine='zarr')\n",
    "mask = ctr.mask.sel(z=25).drop_vars('z')"
   ]
  },
  {
   "cell_type": "code",
   "execution_count": 3,
   "id": "complimentary-postcard",
   "metadata": {},
   "outputs": [],
   "source": [
    "slope = (sx+sy).where(mask==1)\n",
    "mslope = abs(slope).quantile(0.5).values.tolist()\n",
    "slope_uniform = (slope/abs(slope))*mslope\n",
    "sx_abs = abs(sx.where(mask==1))\n",
    "sy_abs = abs(sy.where(mask==1))\n",
    "sx_uniform = slope_uniform.where((mask==1)&(sx_abs>0),0)\n",
    "sy_uniform = slope_uniform.where((mask==1)&(sy_abs>0),0)\n",
    "sx_uniform = np.expand_dims(sx_uniform.where(mask==1,-999.).values,0)\n",
    "sy_uniform = np.expand_dims(sy_uniform.where(mask==1,-999.).values,0)"
   ]
  },
  {
   "cell_type": "code",
   "execution_count": 4,
   "id": "endangered-truck",
   "metadata": {},
   "outputs": [
    {
     "data": {
      "text/plain": [
       "0"
      ]
     },
     "execution_count": 4,
     "metadata": {},
     "output_type": "execute_result"
    }
   ],
   "source": [
    "sx_pfb.setDataArray(sx_uniform)\n",
    "sx_pfb.writeFile('/home/ltelfer/scratch/upper_sfs/input_files/domain_inputs/uniform_slopex.pfb')"
   ]
  },
  {
   "cell_type": "code",
   "execution_count": 5,
   "id": "dependent-composite",
   "metadata": {},
   "outputs": [
    {
     "data": {
      "text/plain": [
       "0"
      ]
     },
     "execution_count": 5,
     "metadata": {},
     "output_type": "execute_result"
    }
   ],
   "source": [
    "sy_pfb.setDataArray(sy_uniform)\n",
    "sy_pfb.writeFile('/home/ltelfer/scratch/upper_sfs/input_files/domain_inputs/uniform_slopey.pfb')"
   ]
  },
  {
   "cell_type": "code",
   "execution_count": null,
   "id": "above-nowhere",
   "metadata": {},
   "outputs": [],
   "source": []
  }
 ],
 "metadata": {
  "kernelspec": {
   "display_name": "Python 3",
   "language": "python",
   "name": "python3"
  },
  "language_info": {
   "codemirror_mode": {
    "name": "ipython",
    "version": 3
   },
   "file_extension": ".py",
   "mimetype": "text/x-python",
   "name": "python",
   "nbconvert_exporter": "python",
   "pygments_lexer": "ipython3",
   "version": "3.7.7"
  }
 },
 "nbformat": 4,
 "nbformat_minor": 5
}
