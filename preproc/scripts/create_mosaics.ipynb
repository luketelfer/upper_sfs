{
 "cells": [
  {
   "cell_type": "code",
   "execution_count": 1,
   "metadata": {},
   "outputs": [],
   "source": [
    "import rasterio as rio\n",
    "import numpy as np\n",
    "import matplotlib\n",
    "import matplotlib.pyplot as plt\n",
    "from matplotlib import cm, colors\n",
    "import xarray as xr\n",
    "from nlmpy import nlmpy\n",
    "from datetime import datetime,timedelta\n",
    "import pandas as pd\n",
    "import seaborn as sns"
   ]
  },
  {
   "cell_type": "code",
   "execution_count": 4,
   "metadata": {},
   "outputs": [],
   "source": [
    "exp = xr.open_dataset('experiments.nc')\n",
    "exp['okburn'] = exp.okburn * 4"
   ]
  },
  {
   "cell_type": "code",
   "execution_count": 57,
   "metadata": {},
   "outputs": [],
   "source": [
    "def parse_mosaics(ds,variable):\n",
    "    nlist = np.arange(1,exp[variable].max()+1,1)\n",
    "    mds = xr.concat([exp.okburn.where(exp[variable]==n,1)*exp.mask.where(exp.mask==1,-999) for n in nlist],dim='n')\n",
    "    mds['n'] = nlist\n",
    "    ds[variable] = mds\n",
    "    return variable"
   ]
  },
  {
   "cell_type": "code",
   "execution_count": 61,
   "metadata": {},
   "outputs": [
    {
     "data": {
      "text/plain": [
       "['aspect',\n",
       " 'atmpress',\n",
       " 'elev',\n",
       " 'longwave',\n",
       " 'precip',\n",
       " 'random1',\n",
       " 'random2',\n",
       " 'shortwave',\n",
       " 'slope',\n",
       " 'sphumid',\n",
       " 'streamdist',\n",
       " 'temp',\n",
       " 'wind']"
      ]
     },
     "execution_count": 61,
     "metadata": {},
     "output_type": "execute_result"
    }
   ],
   "source": [
    "vlist = [x for x in exp.drop_vars(['okburn','mask']).data_vars]\n",
    "mos = xr.Dataset()\n",
    "mos['n'] = np.arange(1,6,1)\n",
    "[parse_mosaics(mos,v) for v in sorted(exp.drop_vars(['okburn','mask']).data_vars)]"
   ]
  },
  {
   "cell_type": "code",
   "execution_count": 88,
   "metadata": {},
   "outputs": [],
   "source": [
    "mos.to_netcdf('mosaics.nc')"
   ]
  },
  {
   "cell_type": "code",
   "execution_count": null,
   "metadata": {},
   "outputs": [],
   "source": []
  }
 ],
 "metadata": {
  "kernelspec": {
   "display_name": "Python 3",
   "language": "python",
   "name": "python3"
  },
  "language_info": {
   "codemirror_mode": {
    "name": "ipython",
    "version": 3
   },
   "file_extension": ".py",
   "mimetype": "text/x-python",
   "name": "python",
   "nbconvert_exporter": "python",
   "pygments_lexer": "ipython3",
   "version": "3.7.6"
  }
 },
 "nbformat": 4,
 "nbformat_minor": 4
}
