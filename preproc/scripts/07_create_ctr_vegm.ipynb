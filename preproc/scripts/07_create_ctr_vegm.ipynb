{
 "cells": [
  {
   "cell_type": "code",
   "execution_count": 1,
   "metadata": {},
   "outputs": [],
   "source": [
    "import numpy as np\n",
    "import pandas as pd\n",
    "import matplotlib\n",
    "import matplotlib.pyplot as plt\n",
    "from matplotlib import cm, colors\n",
    "import seaborn as sns\n",
    "import xarray as xr\n",
    "import decimal\n",
    "from decimal import Decimal\n",
    "import csv\n",
    "from parflowio.pyParflowio import PFData"
   ]
  },
  {
   "cell_type": "markdown",
   "metadata": {},
   "source": [
    "# import data"
   ]
  },
  {
   "cell_type": "code",
   "execution_count": 18,
   "metadata": {},
   "outputs": [],
   "source": [
    "pfb = PFData('ctrH_indicator.pfb')\n",
    "pfb.loadHeader();\n",
    "pfb.loadData();\n",
    "arr = pfb.copyDataArray()[-1]\n",
    "arr[arr<0] = 0"
   ]
  },
  {
   "cell_type": "markdown",
   "metadata": {},
   "source": [
    "# import vegm template"
   ]
  },
  {
   "cell_type": "code",
   "execution_count": 19,
   "metadata": {},
   "outputs": [],
   "source": [
    "template = pd.read_csv('template_vegm.dat',delim_whitespace=True)\n",
    "vegt = template.drop(template.columns[7:],axis=1).copy()"
   ]
  },
  {
   "cell_type": "markdown",
   "metadata": {},
   "source": [
    "# fill in values"
   ]
  },
  {
   "cell_type": "code",
   "execution_count": 20,
   "metadata": {},
   "outputs": [],
   "source": [
    "vegt['1'] = 0\n",
    "vegt['2'] = 0\n",
    "vegt['3'] = 0\n",
    "vegt['4'] = 1\n",
    "vegt['5'] = 0\n",
    "vegt['6'] = 0\n",
    "vegt['7'] = 0\n",
    "vegt['8'] = 0\n",
    "vegt['9'] = 0\n",
    "vegt['10'] = 0\n",
    "vegt['11'] = 0\n",
    "vegt['12'] = 0\n",
    "vegt['13'] = 0\n",
    "vegt['14'] = 0\n",
    "vegt['15'] = 0\n",
    "vegt['16'] = 0\n",
    "vegt['17'] = 0\n",
    "vegt['18'] = 0"
   ]
  },
  {
   "cell_type": "markdown",
   "metadata": {},
   "source": [
    "# decimal places"
   ]
  },
  {
   "cell_type": "code",
   "execution_count": 21,
   "metadata": {},
   "outputs": [],
   "source": [
    "def decimalConvert(value,precision):\n",
    "        decimal.getcontext().prec = precision\n",
    "        n = decimal.Decimal(value)/1\n",
    "        return n"
   ]
  },
  {
   "cell_type": "code",
   "execution_count": 22,
   "metadata": {},
   "outputs": [],
   "source": [
    "vegt['lat'] = vegt.lat.apply(lambda x: decimalConvert(x,8))\n",
    "vegt['lon'] = vegt.lon.apply(lambda x: decimalConvert(x,9))\n",
    "vegt['sand'] = vegt.sand.apply(lambda x: decimalConvert(x,2))\n",
    "vegt['clay'] = vegt.clay.apply(lambda x: decimalConvert(x,2))"
   ]
  },
  {
   "cell_type": "markdown",
   "metadata": {},
   "source": [
    "# add headers"
   ]
  },
  {
   "cell_type": "code",
   "execution_count": 23,
   "metadata": {},
   "outputs": [],
   "source": [
    "header1 = ['x','y','lat','lon','sand','clay','color',\n",
    "           'fractional','coverage','of','grid,','by',\n",
    "           'vegetation','class','(Must/Should','Add',\n",
    "           'to','1.0)','']\n",
    "header2 = ['','','(Deg)','(Deg)','(%/100)','','index',\n",
    "           '1','2','3','4','5','6',\n",
    "           '7','8','9','10','11','12',\n",
    "           '13','14','15','16','17','18']"
   ]
  },
  {
   "cell_type": "markdown",
   "metadata": {},
   "source": [
    "# write header lines"
   ]
  },
  {
   "cell_type": "code",
   "execution_count": 24,
   "metadata": {},
   "outputs": [],
   "source": [
    "outpath = 'ctrH_vegm.dat'\n",
    "with open(outpath,'w') as v:\n",
    "    vwriter = csv.writer(v,delimiter=' ')\n",
    "    vwriter.writerow(header1)\n",
    "    vwriter.writerow(header2)"
   ]
  },
  {
   "cell_type": "markdown",
   "metadata": {},
   "source": [
    "# append vegm data"
   ]
  },
  {
   "cell_type": "code",
   "execution_count": 25,
   "metadata": {},
   "outputs": [],
   "source": [
    "vegt.to_csv(outpath,mode='a',sep=' ',index=False,header=False)"
   ]
  },
  {
   "cell_type": "code",
   "execution_count": null,
   "metadata": {},
   "outputs": [],
   "source": []
  }
 ],
 "metadata": {
  "kernelspec": {
   "display_name": "Python 3",
   "language": "python",
   "name": "python3"
  },
  "language_info": {
   "codemirror_mode": {
    "name": "ipython",
    "version": 3
   },
   "file_extension": ".py",
   "mimetype": "text/x-python",
   "name": "python",
   "nbconvert_exporter": "python",
   "pygments_lexer": "ipython3",
   "version": "3.8.8"
  }
 },
 "nbformat": 4,
 "nbformat_minor": 4
}
